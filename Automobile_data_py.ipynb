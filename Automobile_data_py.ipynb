{
 "cells": [
  {
   "cell_type": "markdown",
   "id": "95fdb1b8",
   "metadata": {},
   "source": [
    "# How many observations and variables in the dataset?"
   ]
  },
  {
   "cell_type": "code",
   "execution_count": 3,
   "id": "8ca7622b",
   "metadata": {},
   "outputs": [
    {
     "data": {
      "text/html": [
       "<div>\n",
       "<style scoped>\n",
       "    .dataframe tbody tr th:only-of-type {\n",
       "        vertical-align: middle;\n",
       "    }\n",
       "\n",
       "    .dataframe tbody tr th {\n",
       "        vertical-align: top;\n",
       "    }\n",
       "\n",
       "    .dataframe thead th {\n",
       "        text-align: right;\n",
       "    }\n",
       "</style>\n",
       "<table border=\"1\" class=\"dataframe\">\n",
       "  <thead>\n",
       "    <tr style=\"text-align: right;\">\n",
       "      <th></th>\n",
       "      <th>make</th>\n",
       "      <th>fuel-type</th>\n",
       "      <th>aspiration</th>\n",
       "      <th>num-of-doors</th>\n",
       "      <th>body-style</th>\n",
       "      <th>drive-wheels</th>\n",
       "      <th>engine-location</th>\n",
       "      <th>wheel-base</th>\n",
       "      <th>length</th>\n",
       "      <th>width</th>\n",
       "      <th>...</th>\n",
       "      <th>engine-size</th>\n",
       "      <th>fuel-system</th>\n",
       "      <th>bore</th>\n",
       "      <th>stroke</th>\n",
       "      <th>compression-ratio</th>\n",
       "      <th>horsepower</th>\n",
       "      <th>peak-rpm</th>\n",
       "      <th>city-mpg</th>\n",
       "      <th>highway-mpg</th>\n",
       "      <th>price</th>\n",
       "    </tr>\n",
       "  </thead>\n",
       "  <tbody>\n",
       "    <tr>\n",
       "      <th>0</th>\n",
       "      <td>alfa-romero</td>\n",
       "      <td>gas</td>\n",
       "      <td>std</td>\n",
       "      <td>two</td>\n",
       "      <td>convertible</td>\n",
       "      <td>rwd</td>\n",
       "      <td>front</td>\n",
       "      <td>88.6</td>\n",
       "      <td>168.8</td>\n",
       "      <td>64.1</td>\n",
       "      <td>...</td>\n",
       "      <td>130</td>\n",
       "      <td>mpfi</td>\n",
       "      <td>2.7</td>\n",
       "      <td>2.68</td>\n",
       "      <td>13</td>\n",
       "      <td>111</td>\n",
       "      <td>5000</td>\n",
       "      <td>21</td>\n",
       "      <td>27</td>\n",
       "      <td>34860</td>\n",
       "    </tr>\n",
       "    <tr>\n",
       "      <th>1</th>\n",
       "      <td>alfa-romero</td>\n",
       "      <td>gas</td>\n",
       "      <td>std</td>\n",
       "      <td>two</td>\n",
       "      <td>convertible</td>\n",
       "      <td>rwd</td>\n",
       "      <td>front</td>\n",
       "      <td>88.6</td>\n",
       "      <td>168.8</td>\n",
       "      <td>64.1</td>\n",
       "      <td>...</td>\n",
       "      <td>130</td>\n",
       "      <td>mpfi</td>\n",
       "      <td>3.1</td>\n",
       "      <td>2.68</td>\n",
       "      <td>7</td>\n",
       "      <td>111</td>\n",
       "      <td>5000</td>\n",
       "      <td>21</td>\n",
       "      <td>27</td>\n",
       "      <td>14109</td>\n",
       "    </tr>\n",
       "    <tr>\n",
       "      <th>2</th>\n",
       "      <td>alfa-romero</td>\n",
       "      <td>gas</td>\n",
       "      <td>std</td>\n",
       "      <td>two</td>\n",
       "      <td>hatchback</td>\n",
       "      <td>rwd</td>\n",
       "      <td>front</td>\n",
       "      <td>94.5</td>\n",
       "      <td>171.2</td>\n",
       "      <td>65.5</td>\n",
       "      <td>...</td>\n",
       "      <td>152</td>\n",
       "      <td>mpfi</td>\n",
       "      <td>3.0</td>\n",
       "      <td>3.47</td>\n",
       "      <td>10</td>\n",
       "      <td>154</td>\n",
       "      <td>5000</td>\n",
       "      <td>19</td>\n",
       "      <td>26</td>\n",
       "      <td>36256</td>\n",
       "    </tr>\n",
       "    <tr>\n",
       "      <th>3</th>\n",
       "      <td>audi</td>\n",
       "      <td>gas</td>\n",
       "      <td>std</td>\n",
       "      <td>four</td>\n",
       "      <td>sedan</td>\n",
       "      <td>fwd</td>\n",
       "      <td>front</td>\n",
       "      <td>99.8</td>\n",
       "      <td>176.6</td>\n",
       "      <td>66.2</td>\n",
       "      <td>...</td>\n",
       "      <td>109</td>\n",
       "      <td>mpfi</td>\n",
       "      <td>3.7</td>\n",
       "      <td>3.40</td>\n",
       "      <td>12</td>\n",
       "      <td>102</td>\n",
       "      <td>5500</td>\n",
       "      <td>24</td>\n",
       "      <td>30</td>\n",
       "      <td>10811</td>\n",
       "    </tr>\n",
       "    <tr>\n",
       "      <th>4</th>\n",
       "      <td>audi</td>\n",
       "      <td>gas</td>\n",
       "      <td>std</td>\n",
       "      <td>four</td>\n",
       "      <td>sedan</td>\n",
       "      <td>4wd</td>\n",
       "      <td>front</td>\n",
       "      <td>99.4</td>\n",
       "      <td>176.6</td>\n",
       "      <td>66.4</td>\n",
       "      <td>...</td>\n",
       "      <td>136</td>\n",
       "      <td>mpfi</td>\n",
       "      <td>3.9</td>\n",
       "      <td>3.40</td>\n",
       "      <td>21</td>\n",
       "      <td>115</td>\n",
       "      <td>5500</td>\n",
       "      <td>18</td>\n",
       "      <td>22</td>\n",
       "      <td>66026</td>\n",
       "    </tr>\n",
       "    <tr>\n",
       "      <th>...</th>\n",
       "      <td>...</td>\n",
       "      <td>...</td>\n",
       "      <td>...</td>\n",
       "      <td>...</td>\n",
       "      <td>...</td>\n",
       "      <td>...</td>\n",
       "      <td>...</td>\n",
       "      <td>...</td>\n",
       "      <td>...</td>\n",
       "      <td>...</td>\n",
       "      <td>...</td>\n",
       "      <td>...</td>\n",
       "      <td>...</td>\n",
       "      <td>...</td>\n",
       "      <td>...</td>\n",
       "      <td>...</td>\n",
       "      <td>...</td>\n",
       "      <td>...</td>\n",
       "      <td>...</td>\n",
       "      <td>...</td>\n",
       "      <td>...</td>\n",
       "    </tr>\n",
       "    <tr>\n",
       "      <th>200</th>\n",
       "      <td>volvo</td>\n",
       "      <td>gas</td>\n",
       "      <td>std</td>\n",
       "      <td>four</td>\n",
       "      <td>sedan</td>\n",
       "      <td>rwd</td>\n",
       "      <td>front</td>\n",
       "      <td>109.1</td>\n",
       "      <td>188.8</td>\n",
       "      <td>68.9</td>\n",
       "      <td>...</td>\n",
       "      <td>141</td>\n",
       "      <td>mpfi</td>\n",
       "      <td>2.6</td>\n",
       "      <td>3.15</td>\n",
       "      <td>24</td>\n",
       "      <td>114</td>\n",
       "      <td>5400</td>\n",
       "      <td>23</td>\n",
       "      <td>28</td>\n",
       "      <td>29103</td>\n",
       "    </tr>\n",
       "    <tr>\n",
       "      <th>201</th>\n",
       "      <td>volvo</td>\n",
       "      <td>gas</td>\n",
       "      <td>turbo</td>\n",
       "      <td>four</td>\n",
       "      <td>sedan</td>\n",
       "      <td>rwd</td>\n",
       "      <td>front</td>\n",
       "      <td>109.1</td>\n",
       "      <td>188.8</td>\n",
       "      <td>68.8</td>\n",
       "      <td>...</td>\n",
       "      <td>141</td>\n",
       "      <td>mpfi</td>\n",
       "      <td>3.6</td>\n",
       "      <td>3.15</td>\n",
       "      <td>7</td>\n",
       "      <td>160</td>\n",
       "      <td>5300</td>\n",
       "      <td>19</td>\n",
       "      <td>25</td>\n",
       "      <td>28747</td>\n",
       "    </tr>\n",
       "    <tr>\n",
       "      <th>202</th>\n",
       "      <td>volvo</td>\n",
       "      <td>gas</td>\n",
       "      <td>std</td>\n",
       "      <td>four</td>\n",
       "      <td>sedan</td>\n",
       "      <td>rwd</td>\n",
       "      <td>front</td>\n",
       "      <td>109.1</td>\n",
       "      <td>188.8</td>\n",
       "      <td>68.9</td>\n",
       "      <td>...</td>\n",
       "      <td>173</td>\n",
       "      <td>mpfi</td>\n",
       "      <td>3.4</td>\n",
       "      <td>2.87</td>\n",
       "      <td>21</td>\n",
       "      <td>134</td>\n",
       "      <td>5500</td>\n",
       "      <td>18</td>\n",
       "      <td>23</td>\n",
       "      <td>5174</td>\n",
       "    </tr>\n",
       "    <tr>\n",
       "      <th>203</th>\n",
       "      <td>volvo</td>\n",
       "      <td>diesel</td>\n",
       "      <td>turbo</td>\n",
       "      <td>four</td>\n",
       "      <td>sedan</td>\n",
       "      <td>rwd</td>\n",
       "      <td>front</td>\n",
       "      <td>109.1</td>\n",
       "      <td>188.8</td>\n",
       "      <td>68.9</td>\n",
       "      <td>...</td>\n",
       "      <td>145</td>\n",
       "      <td>idi</td>\n",
       "      <td>3.9</td>\n",
       "      <td>3.40</td>\n",
       "      <td>22</td>\n",
       "      <td>106</td>\n",
       "      <td>4800</td>\n",
       "      <td>26</td>\n",
       "      <td>27</td>\n",
       "      <td>16952</td>\n",
       "    </tr>\n",
       "    <tr>\n",
       "      <th>204</th>\n",
       "      <td>volvo</td>\n",
       "      <td>gas</td>\n",
       "      <td>turbo</td>\n",
       "      <td>four</td>\n",
       "      <td>sedan</td>\n",
       "      <td>rwd</td>\n",
       "      <td>front</td>\n",
       "      <td>109.1</td>\n",
       "      <td>188.8</td>\n",
       "      <td>68.9</td>\n",
       "      <td>...</td>\n",
       "      <td>141</td>\n",
       "      <td>mpfi</td>\n",
       "      <td>3.9</td>\n",
       "      <td>3.15</td>\n",
       "      <td>17</td>\n",
       "      <td>114</td>\n",
       "      <td>5400</td>\n",
       "      <td>19</td>\n",
       "      <td>25</td>\n",
       "      <td>39670</td>\n",
       "    </tr>\n",
       "  </tbody>\n",
       "</table>\n",
       "<p>205 rows × 24 columns</p>\n",
       "</div>"
      ],
      "text/plain": [
       "            make fuel-type aspiration num-of-doors   body-style drive-wheels  \\\n",
       "0    alfa-romero       gas        std          two  convertible          rwd   \n",
       "1    alfa-romero       gas        std          two  convertible          rwd   \n",
       "2    alfa-romero       gas        std          two    hatchback          rwd   \n",
       "3           audi       gas        std         four        sedan          fwd   \n",
       "4           audi       gas        std         four        sedan          4wd   \n",
       "..           ...       ...        ...          ...          ...          ...   \n",
       "200        volvo       gas        std         four        sedan          rwd   \n",
       "201        volvo       gas      turbo         four        sedan          rwd   \n",
       "202        volvo       gas        std         four        sedan          rwd   \n",
       "203        volvo    diesel      turbo         four        sedan          rwd   \n",
       "204        volvo       gas      turbo         four        sedan          rwd   \n",
       "\n",
       "    engine-location  wheel-base  length  width  ...  engine-size  fuel-system  \\\n",
       "0             front        88.6   168.8   64.1  ...          130         mpfi   \n",
       "1             front        88.6   168.8   64.1  ...          130         mpfi   \n",
       "2             front        94.5   171.2   65.5  ...          152         mpfi   \n",
       "3             front        99.8   176.6   66.2  ...          109         mpfi   \n",
       "4             front        99.4   176.6   66.4  ...          136         mpfi   \n",
       "..              ...         ...     ...    ...  ...          ...          ...   \n",
       "200           front       109.1   188.8   68.9  ...          141         mpfi   \n",
       "201           front       109.1   188.8   68.8  ...          141         mpfi   \n",
       "202           front       109.1   188.8   68.9  ...          173         mpfi   \n",
       "203           front       109.1   188.8   68.9  ...          145          idi   \n",
       "204           front       109.1   188.8   68.9  ...          141         mpfi   \n",
       "\n",
       "    bore stroke  compression-ratio horsepower  peak-rpm  city-mpg  \\\n",
       "0    2.7   2.68                 13        111      5000        21   \n",
       "1    3.1   2.68                  7        111      5000        21   \n",
       "2    3.0   3.47                 10        154      5000        19   \n",
       "3    3.7   3.40                 12        102      5500        24   \n",
       "4    3.9   3.40                 21        115      5500        18   \n",
       "..   ...    ...                ...        ...       ...       ...   \n",
       "200  2.6   3.15                 24        114      5400        23   \n",
       "201  3.6   3.15                  7        160      5300        19   \n",
       "202  3.4   2.87                 21        134      5500        18   \n",
       "203  3.9   3.40                 22        106      4800        26   \n",
       "204  3.9   3.15                 17        114      5400        19   \n",
       "\n",
       "     highway-mpg  price  \n",
       "0             27  34860  \n",
       "1             27  14109  \n",
       "2             26  36256  \n",
       "3             30  10811  \n",
       "4             22  66026  \n",
       "..           ...    ...  \n",
       "200           28  29103  \n",
       "201           25  28747  \n",
       "202           23   5174  \n",
       "203           27  16952  \n",
       "204           25  39670  \n",
       "\n",
       "[205 rows x 24 columns]"
      ]
     },
     "execution_count": 3,
     "metadata": {},
     "output_type": "execute_result"
    }
   ],
   "source": [
    "import pandas as pd\n",
    "df_mob = pd.read_csv(\"Automobile_data.csv\")\n",
    "df_mob\n"
   ]
  },
  {
   "cell_type": "code",
   "execution_count": 7,
   "id": "cf8b6e35",
   "metadata": {},
   "outputs": [
    {
     "data": {
      "text/plain": [
       "(205, 24)"
      ]
     },
     "execution_count": 7,
     "metadata": {},
     "output_type": "execute_result"
    }
   ],
   "source": [
    "df_mob.shape"
   ]
  },
  {
   "cell_type": "code",
   "execution_count": null,
   "id": "945e2554",
   "metadata": {},
   "outputs": [],
   "source": [
    "no of observations - no of rows * no of coumns = 205*24 = 4920"
   ]
  },
  {
   "cell_type": "markdown",
   "id": "6622625f",
   "metadata": {},
   "source": [
    "# What is the difference in average city-mpg between two door and four door cars?\n"
   ]
  },
  {
   "cell_type": "code",
   "execution_count": 14,
   "id": "ac142bfe",
   "metadata": {},
   "outputs": [
    {
     "name": "stdout",
     "output_type": "stream",
     "text": [
      "difference in average city-mpg : 0.19\n"
     ]
    }
   ],
   "source": [
    "avg_city_mpg = df_mob.groupby(\"num-of-doors\")[\"city-mpg\"].mean()\n",
    "difference = avg_city_mpg[\"two\"]-avg_city_mpg[\"four\"]\n",
    "print(f\"difference in average city-mpg : {difference :.2f}\")"
   ]
  },
  {
   "cell_type": "markdown",
   "id": "3b500191",
   "metadata": {},
   "source": [
    "# How many cars in the dataset with front engine location has six cylinders?\n"
   ]
  },
  {
   "cell_type": "code",
   "execution_count": 20,
   "id": "a08bdf11",
   "metadata": {},
   "outputs": [
    {
     "name": "stdout",
     "output_type": "stream",
     "text": [
      "number of cars : 24\n"
     ]
    }
   ],
   "source": [
    "no_cars = df_mob.groupby(\"num-of-cylinders\")[\"engine-location\"].count()\n",
    "n_cars = no_cars[\"six\"]\n",
    "print(f\"number of cars : {n_cars}\")"
   ]
  },
  {
   "cell_type": "markdown",
   "id": "38f535ff",
   "metadata": {},
   "source": [
    "# Do you think variable price has outliers?\n"
   ]
  },
  {
   "cell_type": "code",
   "execution_count": 26,
   "id": "fb5e1391",
   "metadata": {},
   "outputs": [
    {
     "data": {
      "image/png": "[encoded data removed]",
      "text/plain": [
       "<Figure size 400x400 with 1 Axes>"
      ]
     },
     "metadata": {},
     "output_type": "display_data"
    }
   ],
   "source": [
    "import matplotlib.pyplot as plt\n",
    "import seaborn as sns\n",
    "plt.figure(figsize=(4,4))\n",
    "sns.boxplot(x=df_mob[\"price\"])\n",
    "plt.title(\"Boxplot for  car price\")\n",
    "plt.show()\n"
   ]
  },
  {
   "cell_type": "markdown",
   "id": "96953565",
   "metadata": {},
   "source": [
    "from boxplot price column has no outliers"
   ]
  },
  {
   "cell_type": "markdown",
   "id": "17cc23f2",
   "metadata": {},
   "source": [
    "# Outliers on price for two door cars?"
   ]
  },
  {
   "cell_type": "code",
   "execution_count": 32,
   "id": "5597f46f",
   "metadata": {},
   "outputs": [
    {
     "data": {
      "image/png": "[encoded data removed]",
      "text/plain": [
       "<Figure size 500x500 with 1 Axes>"
      ]
     },
     "metadata": {},
     "output_type": "display_data"
    }
   ],
   "source": [
    "import pandas as pd\n",
    "import matplotlib.pyplot as plt\n",
    "import seaborn as sns\n",
    "\n",
    "two_door_cars=df_mob[df_mob[\"num-of-doors\"]==\"two\"]\n",
    "plt.figure(figsize=(5, 5))\n",
    "sns.boxplot(x=two_door_cars[\"price\"])\n",
    "plt.title(\"Box Plot of Price for Two-Door Cars\")\n",
    "plt.show()\n"
   ]
  },
  {
   "cell_type": "markdown",
   "id": "c4a6f33e",
   "metadata": {},
   "source": [
    "Price for two door cars has no outliers"
   ]
  },
  {
   "cell_type": "markdown",
   "id": "1e2cdefc",
   "metadata": {},
   "source": [
    "# Most cars in the dataset have four cylinder?\n"
   ]
  },
  {
   "cell_type": "code",
   "execution_count": 37,
   "id": "76dc3a59",
   "metadata": {},
   "outputs": [
    {
     "name": "stdout",
     "output_type": "stream",
     "text": [
      "cars that have four cylinder : 159\n"
     ]
    }
   ],
   "source": [
    "cars=df_mob[df_mob[\"num-of-cylinders\"]==\"four\"].shape[0]\n",
    "print(f\"cars that have four cylinder : {cars}\")"
   ]
  },
  {
   "cell_type": "markdown",
   "id": "8e5777dc",
   "metadata": {},
   "source": [
    "yes most of the cars have four cylinders"
   ]
  },
  {
   "cell_type": "markdown",
   "id": "4efb69d4",
   "metadata": {},
   "source": [
    "# How many variables are considered as categorical variables by python?\n"
   ]
  },
  {
   "cell_type": "code",
   "execution_count": 38,
   "id": "345c86f9",
   "metadata": {},
   "outputs": [
    {
     "name": "stdout",
     "output_type": "stream",
     "text": [
      "<class 'pandas.core.frame.DataFrame'>\n",
      "RangeIndex: 205 entries, 0 to 204\n",
      "Data columns (total 24 columns):\n",
      " #   Column             Non-Null Count  Dtype  \n",
      "---  ------             --------------  -----  \n",
      " 0   make               205 non-null    object \n",
      " 1   fuel-type          205 non-null    object \n",
      " 2   aspiration         205 non-null    object \n",
      " 3   num-of-doors       205 non-null    object \n",
      " 4   body-style         205 non-null    object \n",
      " 5   drive-wheels       205 non-null    object \n",
      " 6   engine-location    205 non-null    object \n",
      " 7   wheel-base         205 non-null    float64\n",
      " 8   length             205 non-null    float64\n",
      " 9   width              205 non-null    float64\n",
      " 10  height             205 non-null    float64\n",
      " 11  curb-weight        205 non-null    int64  \n",
      " 12  engine-type        205 non-null    object \n",
      " 13  num-of-cylinders   205 non-null    object \n",
      " 14  engine-size        205 non-null    int64  \n",
      " 15  fuel-system        205 non-null    object \n",
      " 16  bore               205 non-null    float64\n",
      " 17  stroke             205 non-null    float64\n",
      " 18  compression-ratio  205 non-null    int64  \n",
      " 19  horsepower         205 non-null    int64  \n",
      " 20  peak-rpm           205 non-null    int64  \n",
      " 21  city-mpg           205 non-null    int64  \n",
      " 22  highway-mpg        205 non-null    int64  \n",
      " 23  price              205 non-null    int64  \n",
      "dtypes: float64(6), int64(8), object(10)\n",
      "memory usage: 38.6+ KB\n"
     ]
    }
   ],
   "source": [
    "df_mob.info()"
   ]
  },
  {
   "cell_type": "markdown",
   "id": "d66833d9",
   "metadata": {},
   "source": [
    "number of categorical variables - 10 #dtype is obj"
   ]
  },
  {
   "cell_type": "markdown",
   "id": "bab01cf8",
   "metadata": {},
   "source": [
    "# What is the average wheel base in the dataset?"
   ]
  },
  {
   "cell_type": "code",
   "execution_count": 40,
   "id": "9f494c5d",
   "metadata": {},
   "outputs": [
    {
     "name": "stdout",
     "output_type": "stream",
     "text": [
      "average wheel base : 98.75658536585367\n"
     ]
    }
   ],
   "source": [
    "avg_wheel_base=df_mob[\"wheel-base\"].mean()\n",
    "print(f\"average wheel base : {avg_wheel_base}\")"
   ]
  },
  {
   "cell_type": "markdown",
   "id": "80b9d663",
   "metadata": {},
   "source": [
    "# How many manufacturers are there in the dataset? "
   ]
  },
  {
   "cell_type": "code",
   "execution_count": 42,
   "id": "68fc60c9",
   "metadata": {},
   "outputs": [
    {
     "name": "stdout",
     "output_type": "stream",
     "text": [
      "no of manufacturers : 22\n"
     ]
    }
   ],
   "source": [
    "no_manuf = df_mob[\"make\"].nunique()\n",
    "print(f\"no of manufacturers : {no_manuf}\")"
   ]
  },
  {
   "cell_type": "markdown",
   "id": "d0ef0054",
   "metadata": {},
   "source": [
    "# What percentage of cars in the dataset have two doors?"
   ]
  },
  {
   "cell_type": "code",
   "execution_count": 49,
   "id": "fe383d0b",
   "metadata": {},
   "outputs": [
    {
     "name": "stdout",
     "output_type": "stream",
     "text": [
      "percentage of cars having 2 doors :  43.41\n"
     ]
    }
   ],
   "source": [
    "no_twodoors=df_mob[df_mob[\"num-of-doors\"]==\"two\"].shape[0]\n",
    "total=df_mob[\"num-of-doors\"].shape[0]\n",
    "per=(no_twodoors/total)*100\n",
    "print(f\"percentage of cars having 2 doors : {per : .2f}\")"
   ]
  },
  {
   "cell_type": "markdown",
   "id": "a7fe5621",
   "metadata": {},
   "source": [
    "# How many variables are considered as numeric variables in the dataset?"
   ]
  },
  {
   "cell_type": "markdown",
   "id": "fa0b7412",
   "metadata": {},
   "source": [
    "14 variables"
   ]
  },
  {
   "cell_type": "markdown",
   "id": "82464264",
   "metadata": {},
   "source": [
    "# What is the maximum fuel efficiency on highways?"
   ]
  },
  {
   "cell_type": "code",
   "execution_count": 56,
   "id": "008de0bb",
   "metadata": {},
   "outputs": [
    {
     "name": "stdout",
     "output_type": "stream",
     "text": [
      "fuel-type\n",
      "diesel    50\n",
      "gas       54\n",
      "Name: highway-mpg, dtype: int64\n"
     ]
    }
   ],
   "source": [
    "max_eff=df_mob.groupby(\"fuel-type\")[\"highway-mpg\"].max()\n",
    "print(max_eff)"
   ]
  },
  {
   "cell_type": "markdown",
   "id": "73ced007",
   "metadata": {},
   "source": [
    "# How many numeric variables has missing values?"
   ]
  },
  {
   "cell_type": "code",
   "execution_count": 79,
   "id": "dbaa1d7b",
   "metadata": {},
   "outputs": [
    {
     "name": "stdout",
     "output_type": "stream",
     "text": [
      "wheel-base           0\n",
      "length               0\n",
      "width                0\n",
      "height               0\n",
      "curb-weight          0\n",
      "engine-size          0\n",
      "bore                 0\n",
      "stroke               0\n",
      "compression-ratio    0\n",
      "horsepower           0\n",
      "peak-rpm             0\n",
      "city-mpg             0\n",
      "highway-mpg          0\n",
      "price                0\n",
      "dtype: int64\n"
     ]
    }
   ],
   "source": [
    "missing_values=df_mob.isna().sum()\n",
    "numeric_columns =df_mob.select_dtypes(include=['number']).columns\n",
    "missing_numeric_values = missing_values[numeric_columns]\n",
    "print(missing_numeric_values)"
   ]
  },
  {
   "cell_type": "markdown",
   "id": "ef622cb0",
   "metadata": {},
   "source": [
    "zero numeric variables has missing values"
   ]
  },
  {
   "cell_type": "markdown",
   "id": "413fa050",
   "metadata": {},
   "source": [
    "# What is the IQR value for horsepower?\n"
   ]
  },
  {
   "cell_type": "code",
   "execution_count": 58,
   "id": "87541e70",
   "metadata": {},
   "outputs": [
    {
     "name": "stdout",
     "output_type": "stream",
     "text": [
      "46.0\n"
     ]
    }
   ],
   "source": [
    "Q1=df_mob[\"horsepower\"].quantile(0.25)\n",
    "Q3=df_mob[\"horsepower\"].quantile(0.75)\n",
    "IQR=Q3-Q1\n",
    "print(IQR)"
   ]
  },
  {
   "cell_type": "markdown",
   "id": "37f37561",
   "metadata": {},
   "source": [
    "# In the dataset what percentage of 4-door cars runs on diesel?"
   ]
  },
  {
   "cell_type": "code",
   "execution_count": 66,
   "id": "45ab7bd4",
   "metadata": {},
   "outputs": [
    {
     "name": "stdout",
     "output_type": "stream",
     "text": [
      "percentage is :  14.66\n"
     ]
    }
   ],
   "source": [
    "no_fourdoors=df_mob[df_mob[\"num-of-doors\"]==\"four\"]\n",
    "diesel_cars=no_fourdoors[no_fourdoors[\"fuel-type\"]==\"diesel\"].shape[0]\n",
    "per=(n/no_fourdoors.shape[0])*100\n",
    "print(f\"percentage is : {per : .2f}\")"
   ]
  },
  {
   "cell_type": "markdown",
   "id": "21f7d2c5",
   "metadata": {},
   "source": [
    "# Skewness of ‘curb-weight’ and ‘horsepower’ Variables?\n"
   ]
  },
  {
   "cell_type": "code",
   "execution_count": 68,
   "id": "b01e2df6",
   "metadata": {},
   "outputs": [
    {
     "name": "stdout",
     "output_type": "stream",
     "text": [
      "Skewness of curb-weight: 0.681398189052588\n",
      "Skewness of horsepower: 1.3905225554213327\n"
     ]
    }
   ],
   "source": [
    "curb_weight_skewness = df_mob[\"curb-weight\"].skew()\n",
    "horsepower_skewness = df_mob[\"horsepower\"].skew()\n",
    "\n",
    "print(f\"Skewness of curb-weight: {curb_weight_skewness}\")\n",
    "print(f\"Skewness of horsepower: {horsepower_skewness}\")"
   ]
  },
  {
   "cell_type": "markdown",
   "id": "8a6e8194",
   "metadata": {},
   "source": [
    "# Type of skewness in ‘length’ Variable."
   ]
  },
  {
   "cell_type": "code",
   "execution_count": 70,
   "id": "c94f402c",
   "metadata": {},
   "outputs": [
    {
     "name": "stdout",
     "output_type": "stream",
     "text": [
      "Skewness of length: 0.1559537713215604\n"
     ]
    }
   ],
   "source": [
    "length_skewness = df_mob[\"length\"].skew()\n",
    "print(f\"Skewness of length: {length_skewness}\")"
   ]
  },
  {
   "cell_type": "markdown",
   "id": "d7d41251",
   "metadata": {},
   "source": [
    "skewness>0 ,it is positive skewness"
   ]
  }
 ],
 "metadata": {
  "kernelspec": {
   "display_name": "Python 3.11",
   "language": "python",
   "name": "python3.11"
  },
  "language_info": {
   "codemirror_mode": {
    "name": "ipython",
    "version": 3
   },
   "file_extension": ".py",
   "mimetype": "text/x-python",
   "name": "python",
   "nbconvert_exporter": "python",
   "pygments_lexer": "ipython3",
   "version": "3.11.4"
  }
 },
 "nbformat": 4,
 "nbformat_minor": 5
}
